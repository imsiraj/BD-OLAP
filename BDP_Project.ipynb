{
  "nbformat": 4,
  "nbformat_minor": 0,
  "metadata": {
    "colab": {
      "name": "BDP_Project.ipynb",
      "provenance": [],
      "collapsed_sections": []
    },
    "kernelspec": {
      "name": "python3",
      "display_name": "Python 3"
    },
    "language_info": {
      "name": "python"
    }
  },
  "cells": [
    {
      "cell_type": "code",
      "source": [
        "# install py-spark\n",
        "!pip install --quiet pyspark"
      ],
      "metadata": {
        "id": "I9W4XiOyZGlJ",
        "colab": {
          "base_uri": "https://localhost:8080/"
        },
        "outputId": "f62c86a2-18bc-44f8-a48a-eeee1e4c285f"
      },
      "execution_count": null,
      "outputs": [
        {
          "output_type": "stream",
          "name": "stdout",
          "text": [
            "\u001b[K     |████████████████████████████████| 281.4 MB 35 kB/s \n",
            "\u001b[K     |████████████████████████████████| 198 kB 58.1 MB/s \n",
            "\u001b[?25h  Building wheel for pyspark (setup.py) ... \u001b[?25l\u001b[?25hdone\n"
          ]
        }
      ]
    },
    {
      "cell_type": "code",
      "source": [
        "from google.colab import drive\n",
        "drive.mount('/content/drive')"
      ],
      "metadata": {
        "colab": {
          "base_uri": "https://localhost:8080/"
        },
        "id": "G0YWOYN-P5WS",
        "outputId": "c8e39d95-b24e-4872-e702-df0a3ea20c43"
      },
      "execution_count": null,
      "outputs": [
        {
          "output_type": "stream",
          "name": "stdout",
          "text": [
            "Drive already mounted at /content/drive; to attempt to forcibly remount, call drive.mount(\"/content/drive\", force_remount=True).\n"
          ]
        }
      ]
    },
    {
      "cell_type": "code",
      "source": [
        "# Start Spark Session\n",
        "from pyspark.sql import SparkSession\n",
        "from pyspark.sql.functions import *\n",
        "spark = SparkSession \\\n",
        "    .builder \\\n",
        "    .appName(\"BDP-project\") \\\n",
        "    .getOrCreate()"
      ],
      "metadata": {
        "id": "LMC0fIWXZKRr"
      },
      "execution_count": null,
      "outputs": []
    },
    {
      "cell_type": "code",
      "source": [
        "import pandas as pd\n",
        "import numpy as np"
      ],
      "metadata": {
        "id": "55eq83HXYRdx"
      },
      "execution_count": null,
      "outputs": []
    },
    {
      "cell_type": "code",
      "source": [
        "# A function to create table from a CSV\n",
        "def readCSV(file_name):\n",
        "  df = spark.read \\\n",
        "  .option(\"header\", \"true\") \\\n",
        "  .option(\"inferSchema\", \"true\") \\\n",
        "  .option(\"sep\", \",\") \\\n",
        "  .csv( \"/content/drive/MyDrive/\" + file_name )\n",
        "\n",
        "  return df"
      ],
      "metadata": {
        "id": "KGB03nKmYvnd"
      },
      "execution_count": null,
      "outputs": []
    },
    {
      "cell_type": "code",
      "execution_count": null,
      "metadata": {
        "id": "Cu4JIGm6YLXD"
      },
      "outputs": [],
      "source": [
        "Co2_file=readCSV(\"CO2 Emissions_Canada.csv\")\n",
        "fuel_file=readCSV(\"Fuel_data.csv\")"
      ]
    },
    {
      "cell_type": "code",
      "source": [
        "# A utility function used for printing a dataset\n",
        "def print_df(df):\n",
        "  # dump content of dataset one on a line\n",
        "  xlist = df.toPandas()\n",
        "  print( xlist )"
      ],
      "metadata": {
        "id": "I-OhkIPXZkJz"
      },
      "execution_count": null,
      "outputs": []
    },
    {
      "cell_type": "code",
      "source": [
        "Co2_file.createOrReplaceTempView( \"Co2\" )\n",
        "fuel_file.createOrReplaceTempView(\"Fuel\")"
      ],
      "metadata": {
        "id": "bB3DLcLUreSe"
      },
      "execution_count": null,
      "outputs": []
    },
    {
      "cell_type": "markdown",
      "source": [
        "#Origin Of the 3D Cube"
      ],
      "metadata": {
        "id": "tUBujZkPSMQo"
      }
    },
    {
      "cell_type": "code",
      "source": [
        "Co2_file.agg(sum(\"CO2_Emissions\").alias(\"Total CO2 produced\")).show()"
      ],
      "metadata": {
        "colab": {
          "base_uri": "https://localhost:8080/"
        },
        "id": "lY54BHrxR7pQ",
        "outputId": "d7a69e4b-c384-46ef-efc6-aa63623f9e8c"
      },
      "execution_count": null,
      "outputs": [
        {
          "output_type": "stream",
          "name": "stdout",
          "text": [
            "+------------------+\n",
            "|Total CO2 produced|\n",
            "+------------------+\n",
            "|           1850568|\n",
            "+------------------+\n",
            "\n"
          ]
        }
      ]
    },
    {
      "cell_type": "markdown",
      "source": [
        "#1D Cube For **\"Make\"** Dimension"
      ],
      "metadata": {
        "id": "nDmH08_dSbOb"
      }
    },
    {
      "cell_type": "code",
      "source": [
        "Co2_file.createOrReplaceTempView( \"df\" )"
      ],
      "metadata": {
        "id": "HEQXBCgOVX6b"
      },
      "execution_count": null,
      "outputs": []
    },
    {
      "cell_type": "code",
      "source": [
        "Co2_file.cube(\"Make\").agg(sum(\"CO2_Emissions\").alias(\"Total CO2 produced by Make\")).orderBy(\"Make\").show()\n",
        "\n",
        "# q1=\"Select Make,sum(CO2_Emissions) AS Total_CO2_produced_by_Make from df \"\\\n",
        "#     + \"GROUP BY Make WITH CUBE \"\\\n",
        "#     + \"ORDER BY Make\"\n",
        "# spark.sql(q1).show()"
      ],
      "metadata": {
        "colab": {
          "base_uri": "https://localhost:8080/"
        },
        "id": "Dcw76T2wZuso",
        "outputId": "7c50dd9f-91fc-45a9-d965-7e570a04c664"
      },
      "execution_count": null,
      "outputs": [
        {
          "output_type": "stream",
          "name": "stdout",
          "text": [
            "+------------+--------------------------+\n",
            "|        Make|Total CO2 produced by Make|\n",
            "+------------+--------------------------+\n",
            "|        null|                   1850568|\n",
            "|       ACURA|                     16103|\n",
            "|  ALFA ROMEO|                      6747|\n",
            "|ASTON MARTIN|                     15962|\n",
            "|        AUDI|                     71742|\n",
            "|     BENTLEY|                     16695|\n",
            "|         BMW|                    133862|\n",
            "|     BUGATTI|                      1566|\n",
            "|       BUICK|                     24005|\n",
            "|    CADILLAC|                     42005|\n",
            "|   CHEVROLET|                    155436|\n",
            "|    CHRYSLER|                     21663|\n",
            "|       DODGE|                     67985|\n",
            "|        FIAT|                     14034|\n",
            "|        FORD|                    163901|\n",
            "|     GENESIS|                      7121|\n",
            "|         GMC|                     98373|\n",
            "|       HONDA|                     40707|\n",
            "|     HYUNDAI|                     43863|\n",
            "|    INFINITI|                     27439|\n",
            "+------------+--------------------------+\n",
            "only showing top 20 rows\n",
            "\n"
          ]
        }
      ]
    },
    {
      "cell_type": "markdown",
      "source": [
        "#2D Cube for **\"Make,Model\"** Dimensions"
      ],
      "metadata": {
        "id": "jvm8lSxlvt7x"
      }
    },
    {
      "cell_type": "code",
      "source": [
        "Co2_file.cube(\"Make\",\"Model\").agg(sum(\"CO2_Emissions\").alias(\"Total CO2 produced by Make\")).orderBy(\"Make\",\"Model\").show()\n",
        "\n",
        "# q2=\"Select Make,Model,sum(CO2_Emissions) AS Total_CO2_produced_by_Make from df \"\\\n",
        "#     + \"GROUP BY Make,Model WITH CUBE \"\\\n",
        "#     + \"ORDER BY Make,Model\"\n",
        "# spark.sql(q2).show()"
      ],
      "metadata": {
        "colab": {
          "base_uri": "https://localhost:8080/"
        },
        "id": "xOaFavu-VnHz",
        "outputId": "9663fb49-7b05-4d5f-95c2-5e124e6e35cc"
      },
      "execution_count": null,
      "outputs": [
        {
          "output_type": "stream",
          "name": "stdout",
          "text": [
            "+----+--------------------+--------------------------+\n",
            "|Make|               Model|Total CO2 produced by Make|\n",
            "+----+--------------------+--------------------------+\n",
            "|null|                null|                   1850568|\n",
            "|null|          124 SPIDER|                       744|\n",
            "|null|          124 Spider|                       744|\n",
            "|null|                1500|                      2244|\n",
            "|null|          1500 (MDS)|                      1973|\n",
            "|null|            1500 4X4|                      2339|\n",
            "|null|      1500 4X4 (MDS)|                      2048|\n",
            "|null|     1500 4X4 DIESEL|                       286|\n",
            "|null|  1500 4X4 ECODIESEL|                      1147|\n",
            "|null|  1500 4X4 EcoDiesel|                       260|\n",
            "|null|        1500 4X4 FFV|                      2928|\n",
            "|null|    1500 4X4 eTorque|                      1121|\n",
            "|null|        1500 Classic|                      1264|\n",
            "|null|    1500 Classic 4X4|                      1334|\n",
            "|null|1500 Classic 4X4 ...|                       289|\n",
            "|null|1500 Classic 4X4 FFV|                       594|\n",
            "|null|1500 Classic EcoD...|                       278|\n",
            "|null|    1500 Classic FFV|                       563|\n",
            "|null|         1500 DIESEL|                       275|\n",
            "|null|      1500 ECODIESEL|                      1101|\n",
            "+----+--------------------+--------------------------+\n",
            "only showing top 20 rows\n",
            "\n"
          ]
        }
      ]
    },
    {
      "cell_type": "code",
      "source": [
        "Co2_fuel=spark.sql(\"Select * from Co2 c join Fuel f on (c.ID==f.Fuel_ID)\")"
      ],
      "metadata": {
        "id": "KJyeoLX8qXX8"
      },
      "execution_count": null,
      "outputs": []
    },
    {
      "cell_type": "markdown",
      "source": [
        "#1.List Make which vehicle class is SUV-Small and fuel consuption city is more than 12(L/100km)."
      ],
      "metadata": {
        "id": "z8lfj_3UvYbB"
      }
    },
    {
      "cell_type": "code",
      "source": [
        "Co2_fuel.createOrReplaceTempView( \"Co2_fuel\" )"
      ],
      "metadata": {
        "id": "LrcCxwqWy9OU"
      },
      "execution_count": null,
      "outputs": []
    },
    {
      "cell_type": "code",
      "source": [
        "#2D Dicing \n",
        "spark.sql(\"Select Make,Vehicle_Class,Fuel_ConsumptionCity,CO2_Emissions from Co2_fuel where Vehicle_Class='SUV - SMALL' and Fuel_ConsumptionCity>12 group by Make,Vehicle_Class,Fuel_ConsumptionCity,CO2_Emissions\").show()"
      ],
      "metadata": {
        "colab": {
          "base_uri": "https://localhost:8080/"
        },
        "id": "gRGU8SaUvYAH",
        "outputId": "1de9e242-4bc3-4456-924d-8fcdcf2a43aa"
      },
      "execution_count": null,
      "outputs": [
        {
          "output_type": "stream",
          "name": "stdout",
          "text": [
            "+-------------+-------------+--------------------+-------------+\n",
            "|         Make|Vehicle_Class|Fuel_ConsumptionCity|CO2_Emissions|\n",
            "+-------------+-------------+--------------------+-------------+\n",
            "|   LAND ROVER|  SUV - SMALL|                15.2|          318|\n",
            "|   VOLKSWAGEN|  SUV - SMALL|                13.7|          282|\n",
            "|       NISSAN|  SUV - SMALL|                16.0|          327|\n",
            "|MERCEDES-BENZ|  SUV - SMALL|                17.4|          353|\n",
            "|         FORD|  SUV - SMALL|                13.7|          281|\n",
            "|    CHEVROLET|  SUV - SMALL|                16.3|          234|\n",
            "|     INFINITI|  SUV - SMALL|                12.5|          257|\n",
            "|      LINCOLN|  SUV - SMALL|                12.6|          259|\n",
            "|    CHEVROLET|  SUV - SMALL|                14.9|          300|\n",
            "|        HONDA|  SUV - SMALL|                13.0|          265|\n",
            "|        ACURA|  SUV - SMALL|                12.2|          258|\n",
            "|          KIA|  SUV - SMALL|                12.5|          264|\n",
            "|        DODGE|  SUV - SMALL|                14.5|          285|\n",
            "|    CHEVROLET|  SUV - SMALL|                14.2|          285|\n",
            "|          KIA|  SUV - SMALL|                12.7|          262|\n",
            "|         AUDI|  SUV - SMALL|                14.1|          285|\n",
            "|         FORD|  SUV - SMALL|                13.4|          268|\n",
            "|    CHEVROLET|  SUV - SMALL|                14.8|          290|\n",
            "|          KIA|  SUV - SMALL|                12.3|          261|\n",
            "|          GMC|  SUV - SMALL|                14.2|          278|\n",
            "+-------------+-------------+--------------------+-------------+\n",
            "only showing top 20 rows\n",
            "\n"
          ]
        }
      ]
    },
    {
      "cell_type": "markdown",
      "source": [
        "#2.List sum of Co2_emission for all audi vehicles which fuel consuption is less than 20 and Vehicle_Class has to be Two-Seater.\n"
      ],
      "metadata": {
        "id": "kOc1szU-0l77"
      }
    },
    {
      "cell_type": "code",
      "source": [
        "#Drill Down 3D\n",
        "spark.sql(\"Select Make,Model,Vehicle_Class,sum(CO2_Emissions) as Co2_sum from Co2_fuel where Fuel_ConsumptionCity<20 and Make='AUDI' and Vehicle_Class='TWO-SEATER' group by Make,Model,Vehicle_Class\").show(36)"
      ],
      "metadata": {
        "colab": {
          "base_uri": "https://localhost:8080/"
        },
        "id": "AUa8HtjlyGmb",
        "outputId": "fe631dd3-20b5-47dc-b17f-5d68d3539039"
      },
      "execution_count": null,
      "outputs": [
        {
          "output_type": "stream",
          "name": "stdout",
          "text": [
            "+----+--------------------+-------------+-------+\n",
            "|Make|               Model|Vehicle_Class|Co2_sum|\n",
            "+----+--------------------+-------------+-------+\n",
            "|AUDI|TTS ROADSTER QUATTRO|   TWO-SEATER|    472|\n",
            "|AUDI|           R8 Spyder|   TWO-SEATER|    347|\n",
            "|AUDI|          R8 QUATTRO|   TWO-SEATER|    338|\n",
            "|AUDI|                  R8|   TWO-SEATER|   2368|\n",
            "|AUDI| TT ROADSTER QUATTRO|   TWO-SEATER|   1048|\n",
            "|AUDI| TT Roadster quattro|   TWO-SEATER|    426|\n",
            "|AUDI|            R8 Coupe|   TWO-SEATER|    347|\n",
            "|AUDI|           R8 SPYDER|   TWO-SEATER|   2402|\n",
            "+----+--------------------+-------------+-------+\n",
            "\n"
          ]
        }
      ]
    },
    {
      "cell_type": "markdown",
      "source": [
        "#3.List sum of CO2_Emissions for all the models of CHEVROLET which engine size is 6.2 ltr and fuel concomb(mpg) is grater than 22."
      ],
      "metadata": {
        "id": "BU3X5bA58XnP"
      }
    },
    {
      "cell_type": "code",
      "source": [
        "#Dicing with CUBE\n",
        "q3=\"Select Make,Model,sum(CO2_Emissions) as Co2_sum from Co2_fuel \"\\\n",
        "  +\"where Make=='CHEVROLET' and Engine_Size=6.2 and Fuel_ConsumptionComb_mpg>22 \" \\\n",
        "  +\"group by Make,Model with CUBE order by Make,Co2_sum asc\"\n",
        "spark.sql(q3).show()"
      ],
      "metadata": {
        "colab": {
          "base_uri": "https://localhost:8080/"
        },
        "id": "NiUscOCy5oxu",
        "outputId": "ea99bc05-091b-4219-e3b0-c4a46dd36ca1"
      },
      "execution_count": null,
      "outputs": [
        {
          "output_type": "stream",
          "name": "stdout",
          "text": [
            "+---------+---------+-------+\n",
            "|     Make|    Model|Co2_sum|\n",
            "+---------+---------+-------+\n",
            "|     null|Camaro SS|    561|\n",
            "|     null| Corvette|    576|\n",
            "|     null|CAMARO SS|   1670|\n",
            "|     null| CORVETTE|   2445|\n",
            "|     null|     null|   5252|\n",
            "|CHEVROLET|Camaro SS|    561|\n",
            "|CHEVROLET| Corvette|    576|\n",
            "|CHEVROLET|CAMARO SS|   1670|\n",
            "|CHEVROLET| CORVETTE|   2445|\n",
            "|CHEVROLET|     null|   5252|\n",
            "+---------+---------+-------+\n",
            "\n"
          ]
        }
      ]
    },
    {
      "cell_type": "markdown",
      "source": [
        "#4.List the Make,vehicle class,sum of fuel Consumption on highway of mercedes-benz"
      ],
      "metadata": {
        "id": "VADbfrwSAsWB"
      }
    },
    {
      "cell_type": "code",
      "source": [
        "#Slicing With Roll Up\n",
        "spark.sql(\"Select Make,Vehicle_Class,round(sum(Fuel_ConsumptionHwy),4) as sum_fuelhwy from Co2_fuel where Make='MERCEDES-BENZ' group by Make,Vehicle_Class with rollup order by sum_fuelhwy desc\").show()"
      ],
      "metadata": {
        "colab": {
          "base_uri": "https://localhost:8080/"
        },
        "id": "fAtYsSFZAzWU",
        "outputId": "29cea9a8-a8d2-4423-c032-c2e63609e2a5"
      },
      "execution_count": null,
      "outputs": [
        {
          "output_type": "stream",
          "name": "stdout",
          "text": [
            "+-------------+--------------------+-----------+\n",
            "|         Make|       Vehicle_Class|sum_fuelhwy|\n",
            "+-------------+--------------------+-----------+\n",
            "|MERCEDES-BENZ|                null|     4103.2|\n",
            "|         null|                null|     4103.2|\n",
            "|MERCEDES-BENZ|      SUV - STANDARD|      909.5|\n",
            "|MERCEDES-BENZ|             COMPACT|      693.9|\n",
            "|MERCEDES-BENZ|          SUBCOMPACT|      636.1|\n",
            "|MERCEDES-BENZ|          TWO-SEATER|      556.4|\n",
            "|MERCEDES-BENZ|            MID-SIZE|      393.4|\n",
            "|MERCEDES-BENZ|           FULL-SIZE|      315.8|\n",
            "|MERCEDES-BENZ|         SUV - SMALL|      235.0|\n",
            "|MERCEDES-BENZ|STATION WAGON - M...|      171.1|\n",
            "|MERCEDES-BENZ|SPECIAL PURPOSE V...|       87.9|\n",
            "|MERCEDES-BENZ|STATION WAGON - S...|       82.3|\n",
            "|MERCEDES-BENZ|         MINICOMPACT|       21.8|\n",
            "+-------------+--------------------+-----------+\n",
            "\n"
          ]
        }
      ]
    },
    {
      "cell_type": "code",
      "source": [
        "Co2_fuel.show()"
      ],
      "metadata": {
        "colab": {
          "base_uri": "https://localhost:8080/"
        },
        "id": "K5kgTwPQCpns",
        "outputId": "455dedf8-27aa-4e56-c4b8-0bac35435f9d"
      },
      "execution_count": null,
      "outputs": [
        {
          "output_type": "stream",
          "name": "stdout",
          "text": [
            "+---+------------+------------+-------------+-----------+---------+------------+-------------+-------+---------+--------------------+-------------------+--------------------+------------------------+\n",
            "| ID|        Make|       Model|Vehicle_Class|Engine_Size|Cylinders|Transmission|CO2_Emissions|Fuel_ID|Fuel_Type|Fuel_ConsumptionCity|Fuel_ConsumptionHwy|Fuel_ConsumptionComb|Fuel_ConsumptionComb_mpg|\n",
            "+---+------------+------------+-------------+-----------+---------+------------+-------------+-------+---------+--------------------+-------------------+--------------------+------------------------+\n",
            "|  1|       ACURA|         ILX|      COMPACT|        2.0|        4|         AS5|          196|      1|        Z|                 9.9|                6.7|                 8.5|                      33|\n",
            "|  2|       ACURA|         ILX|      COMPACT|        2.4|        4|          M6|          221|      2|        Z|                11.2|                7.7|                 9.6|                      29|\n",
            "|  3|       ACURA|  ILX HYBRID|      COMPACT|        1.5|        4|         AV7|          136|      3|        Z|                 6.0|                5.8|                 5.9|                      48|\n",
            "|  4|       ACURA|     MDX 4WD|  SUV - SMALL|        3.5|        6|         AS6|          255|      4|        Z|                12.7|                9.1|                11.1|                      25|\n",
            "|  5|       ACURA|     RDX AWD|  SUV - SMALL|        3.5|        6|         AS6|          244|      5|        Z|                12.1|                8.7|                10.6|                      27|\n",
            "|  6|       ACURA|         RLX|     MID-SIZE|        3.5|        6|         AS6|          230|      6|        Z|                11.9|                7.7|                10.0|                      28|\n",
            "|  7|       ACURA|          TL|     MID-SIZE|        3.5|        6|         AS6|          232|      7|        Z|                11.8|                8.1|                10.1|                      28|\n",
            "|  8|       ACURA|      TL AWD|     MID-SIZE|        3.7|        6|         AS6|          255|      8|        Z|                12.8|                9.0|                11.1|                      25|\n",
            "|  9|       ACURA|      TL AWD|     MID-SIZE|        3.7|        6|          M6|          267|      9|        Z|                13.4|                9.5|                11.6|                      24|\n",
            "| 10|       ACURA|         TSX|      COMPACT|        2.4|        4|         AS5|          212|     10|        Z|                10.6|                7.5|                 9.2|                      31|\n",
            "| 11|       ACURA|         TSX|      COMPACT|        2.4|        4|          M6|          225|     11|        Z|                11.2|                8.1|                 9.8|                      29|\n",
            "| 12|       ACURA|         TSX|      COMPACT|        3.5|        6|         AS5|          239|     12|        Z|                12.1|                8.3|                10.4|                      27|\n",
            "| 13|  ALFA ROMEO|          4C|   TWO-SEATER|        1.8|        4|         AM6|          193|     13|        Z|                 9.7|                6.9|                 8.4|                      34|\n",
            "| 14|ASTON MARTIN|         DB9|  MINICOMPACT|        5.9|       12|          A6|          359|     14|        Z|                18.0|               12.6|                15.6|                      18|\n",
            "| 15|ASTON MARTIN|      RAPIDE|   SUBCOMPACT|        5.9|       12|          A6|          359|     15|        Z|                18.0|               12.6|                15.6|                      18|\n",
            "| 16|ASTON MARTIN|  V8 VANTAGE|   TWO-SEATER|        4.7|        8|         AM7|          338|     16|        Z|                17.4|               11.3|                14.7|                      19|\n",
            "| 17|ASTON MARTIN|  V8 VANTAGE|   TWO-SEATER|        4.7|        8|          M6|          354|     17|        Z|                18.1|               12.2|                15.4|                      18|\n",
            "| 18|ASTON MARTIN|V8 VANTAGE S|   TWO-SEATER|        4.7|        8|         AM7|          338|     18|        Z|                17.4|               11.3|                14.7|                      19|\n",
            "| 19|ASTON MARTIN|V8 VANTAGE S|   TWO-SEATER|        4.7|        8|          M6|          354|     19|        Z|                18.1|               12.2|                15.4|                      18|\n",
            "| 20|ASTON MARTIN|    VANQUISH|  MINICOMPACT|        5.9|       12|          A6|          359|     20|        Z|                18.0|               12.6|                15.6|                      18|\n",
            "+---+------------+------------+-------------+-----------+---------+------------+-------------+-------+---------+--------------------+-------------------+--------------------+------------------------+\n",
            "only showing top 20 rows\n",
            "\n"
          ]
        }
      ]
    },
    {
      "cell_type": "markdown",
      "source": [
        "#5.List all make and model of vehicle which have minimum 4L engine size and atleast 4 cylinders engine."
      ],
      "metadata": {
        "id": "W8BYgrwdCUvh"
      }
    },
    {
      "cell_type": "code",
      "source": [
        "#Dicing 2D with Roll Up\n",
        "q5=\"Select Make,Model,sum(CO2_Emissions) as Co2_sum from Co2_fuel \" \\\n",
        "  +\"where Engine_Size>4 and Cylinders>=4 \"\\\n",
        "  +\"group by Make,Model WITH ROLLUP order by Make,Model,Co2_sum\"\n",
        "spark.sql(q5).show()"
      ],
      "metadata": {
        "colab": {
          "base_uri": "https://localhost:8080/"
        },
        "id": "ymuUXzbrBtIt",
        "outputId": "1304f1b1-a0d6-4ca6-f5e1-c8ba579061fb"
      },
      "execution_count": null,
      "outputs": [
        {
          "output_type": "stream",
          "name": "stdout",
          "text": [
            "+------------+----------------+-------+\n",
            "|        Make|           Model|Co2_sum|\n",
            "+------------+----------------+-------+\n",
            "|        null|            null| 492616|\n",
            "|ASTON MARTIN|            null|  14282|\n",
            "|ASTON MARTIN|        DB11 AMR|    624|\n",
            "|ASTON MARTIN|        DB11 V12|    644|\n",
            "|ASTON MARTIN|             DB9|    718|\n",
            "|ASTON MARTIN|          DB9 GT|    365|\n",
            "|ASTON MARTIN|DBS Superleggera|    648|\n",
            "|ASTON MARTIN|          RAPIDE|    359|\n",
            "|ASTON MARTIN|        RAPIDE S|   1322|\n",
            "|ASTON MARTIN|      Rapide AMR|    332|\n",
            "|ASTON MARTIN|   V12 VANTAGE S|   1607|\n",
            "|ASTON MARTIN|      V8 VANTAGE|   2091|\n",
            "|ASTON MARTIN|    V8 VANTAGE S|   2091|\n",
            "|ASTON MARTIN|        VANQUISH|   1736|\n",
            "|ASTON MARTIN|      VANTAGE GT|   1399|\n",
            "|ASTON MARTIN| Vanquish Zagato|    346|\n",
            "|        AUDI|            null|  10454|\n",
            "|        AUDI|             A8L|    707|\n",
            "|        AUDI|     A8L QUATTRO|    344|\n",
            "|        AUDI|              R8|   3566|\n",
            "+------------+----------------+-------+\n",
            "only showing top 20 rows\n",
            "\n"
          ]
        }
      ]
    },
    {
      "cell_type": "markdown",
      "source": [
        "#6.List model and vehicle class,total of Fuel_ConsumptionCity of Porsche which fuel consumption comb is more than 10(L/100) and CO2_Emissions more than 251."
      ],
      "metadata": {
        "id": "rWV89hwPDW09"
      }
    },
    {
      "cell_type": "code",
      "source": [
        "#2D Dicing\n",
        "q6=\"Select Make,Model,round(sum(Fuel_ConsumptionCity),2) as fuel_sum from Co2_fuel \"\\\n",
        "  +\"where Make='PORSCHE' and Fuel_ConsumptionComb>10 and CO2_Emissions>251 \"\\\n",
        "  +\"group by Make,Model With ROLLUP order by fuel_sum desc\"\n",
        "spark.sql(q6).show()"
      ],
      "metadata": {
        "colab": {
          "base_uri": "https://localhost:8080/"
        },
        "id": "II-m7iiaC0r1",
        "outputId": "9c7bf12d-3eef-4aa8-ba0c-6949d1db2871"
      },
      "execution_count": null,
      "outputs": [
        {
          "output_type": "stream",
          "name": "stdout",
          "text": [
            "+-------+--------------------+--------+\n",
            "|   Make|               Model|fuel_sum|\n",
            "+-------+--------------------+--------+\n",
            "|   null|                null|  2641.9|\n",
            "|PORSCHE|                null|  2641.9|\n",
            "|PORSCHE|             911 GT3|   115.6|\n",
            "|PORSCHE|       CAYENNE TURBO|    83.1|\n",
            "|PORSCHE|911 CARRERA 4S CA...|    76.4|\n",
            "|PORSCHE|           CAYENNE S|    71.9|\n",
            "|PORSCHE|             CAYENNE|    69.2|\n",
            "|PORSCHE|     CAYENNE TURBO S|    68.3|\n",
            "|PORSCHE| 911 TURBO CABRIOLET|    66.3|\n",
            "|PORSCHE|         911 TURBO S|    66.3|\n",
            "|PORSCHE|911 TURBO S CABRI...|    66.3|\n",
            "|PORSCHE|           911 TURBO|    66.3|\n",
            "|PORSCHE|911 CARRERA 4 GTS...|    65.9|\n",
            "|PORSCHE|911 CARRERA GTS C...|    64.8|\n",
            "|PORSCHE|     911 CARRERA GTS|    64.1|\n",
            "|PORSCHE|   911 CARRERA 4 GTS|    64.1|\n",
            "|PORSCHE|         CAYENNE GTS|    60.5|\n",
            "|PORSCHE|PANAMERA TURBO EX...|    59.0|\n",
            "|PORSCHE|      PANAMERA TURBO|    58.7|\n",
            "|PORSCHE|         MACAN TURBO|    56.8|\n",
            "+-------+--------------------+--------+\n",
            "only showing top 20 rows\n",
            "\n"
          ]
        }
      ]
    },
    {
      "cell_type": "markdown",
      "source": [
        "#7.List make,vehicle class where transmission is AS6 and average co2(g/km)."
      ],
      "metadata": {
        "id": "eREjU0JFF3vW"
      }
    },
    {
      "cell_type": "code",
      "source": [
        "#Slice\n",
        "q7=\"Select Make,Vehicle_Class,round(avg(CO2_Emissions),2) as CO2_avg from Co2_fuel\"\\\n",
        "   +\" where Transmission='AS6' \"\\\n",
        "   +\"group by Make,Vehicle_Class order by CO2_avg desc\"\n",
        "spark.sql(q7).show()"
      ],
      "metadata": {
        "colab": {
          "base_uri": "https://localhost:8080/"
        },
        "id": "aTkgo6ttI6VK",
        "outputId": "279b05d2-3e8a-454b-967a-3f8db5d9f864"
      },
      "execution_count": null,
      "outputs": [
        {
          "output_type": "stream",
          "name": "stdout",
          "text": [
            "+----------+--------------------+-------+\n",
            "|      Make|       Vehicle_Class|CO2_avg|\n",
            "+----------+--------------------+-------+\n",
            "|    TOYOTA|PICKUP TRUCK - ST...| 359.38|\n",
            "|  MASERATI|          SUBCOMPACT| 353.91|\n",
            "|    TOYOTA|      SUV - STANDARD|  348.4|\n",
            "|      FORD|     VAN - PASSENGER| 344.38|\n",
            "|     LEXUS|      SUV - STANDARD| 342.67|\n",
            "|   LINCOLN|      SUV - STANDARD| 323.17|\n",
            "|    JAGUAR|          TWO-SEATER|  311.0|\n",
            "|    JAGUAR|         MINICOMPACT|  308.3|\n",
            "|     VOLVO|      SUV - STANDARD|  294.0|\n",
            "|      FORD|PICKUP TRUCK - ST...| 292.21|\n",
            "|      FORD|      SUV - STANDARD| 290.86|\n",
            "|  CADILLAC|      SUV - STANDARD| 290.17|\n",
            "|  CADILLAC|STATION WAGON - S...|  282.4|\n",
            "|   LINCOLN|           FULL-SIZE| 281.67|\n",
            "|       KIA|             MINIVAN| 278.08|\n",
            "|  CADILLAC|           FULL-SIZE| 276.44|\n",
            "| CHEVROLET|          TWO-SEATER|  276.0|\n",
            "|    TOYOTA|             MINIVAN| 275.33|\n",
            "|  CADILLAC|            MID-SIZE|  274.9|\n",
            "|LAND ROVER|         SUV - SMALL|  274.0|\n",
            "+----------+--------------------+-------+\n",
            "only showing top 20 rows\n",
            "\n"
          ]
        }
      ]
    },
    {
      "cell_type": "markdown",
      "source": [
        "#8.List Make, Model and Vehicle class where fuel type is X and fuel consumption comb is min 45(mpg) ."
      ],
      "metadata": {
        "id": "ga-IotVjK4bi"
      }
    },
    {
      "cell_type": "code",
      "source": [
        "spark.sql(\"Select Make,Model,Vehicle_Class from Co2_fuel where Fuel_Type='X' and Fuel_ConsumptionComb_mpg>45\").show()"
      ],
      "metadata": {
        "colab": {
          "base_uri": "https://localhost:8080/"
        },
        "id": "upeASK9UHiwA",
        "outputId": "e6e09fa4-4b39-421a-c97a-743675c90641"
      },
      "execution_count": null,
      "outputs": [
        {
          "output_type": "stream",
          "name": "stdout",
          "text": [
            "+----------+-------------------+--------------------+\n",
            "|      Make|              Model|       Vehicle_Class|\n",
            "+----------+-------------------+--------------------+\n",
            "|      FORD|       C-MAX HYBRID|           FULL-SIZE|\n",
            "|      FORD|      FUSION HYBRID|            MID-SIZE|\n",
            "|     HONDA|      ACCORD HYBRID|            MID-SIZE|\n",
            "|   HYUNDAI|      SONATA HYBRID|            MID-SIZE|\n",
            "|       KIA|      OPTIMA HYBRID|            MID-SIZE|\n",
            "|     LEXUS|            CT 200h|             COMPACT|\n",
            "|     LEXUS|            ES 300h|            MID-SIZE|\n",
            "|MITSUBISHI|             MIRAGE|             COMPACT|\n",
            "|     SCION|                 iQ|         MINICOMPACT|\n",
            "|    TOYOTA|    CAMRY HYBRID LE|            MID-SIZE|\n",
            "|    TOYOTA|CAMRY HYBRID XLE/SE|            MID-SIZE|\n",
            "|    TOYOTA|              PRIUS|            MID-SIZE|\n",
            "|    TOYOTA|            PRIUS c|             COMPACT|\n",
            "|    TOYOTA|            PRIUS v|STATION WAGON - M...|\n",
            "|      FORD|       C-MAX HYBRID|           FULL-SIZE|\n",
            "|      FORD|      FUSION HYBRID|            MID-SIZE|\n",
            "|     HONDA|      ACCORD HYBRID|            MID-SIZE|\n",
            "|     HONDA|       CIVIC HYBRID|             COMPACT|\n",
            "|     LEXUS|            CT 200h|             COMPACT|\n",
            "|     LEXUS|            ES 300h|            MID-SIZE|\n",
            "+----------+-------------------+--------------------+\n",
            "only showing top 20 rows\n",
            "\n"
          ]
        }
      ]
    },
    {
      "cell_type": "markdown",
      "source": [
        "#9.List Fuel Consumption in City With Make,Model Dimensions "
      ],
      "metadata": {
        "id": "44gXxqdeLqE8"
      }
    },
    {
      "cell_type": "code",
      "source": [
        "#Drill Down 2D\n",
        "spark.sql(\"Select Make,Model,Fuel_ConsumptionCity from Co2_fuel group by Make,Model,Fuel_ConsumptionCity With rollup order by Fuel_ConsumptionCity desc\").show()"
      ],
      "metadata": {
        "colab": {
          "base_uri": "https://localhost:8080/"
        },
        "id": "d4S-0oualoz9",
        "outputId": "7cafadf9-188d-4894-d58e-057fec7fef9a"
      },
      "execution_count": null,
      "outputs": [
        {
          "output_type": "stream",
          "name": "stdout",
          "text": [
            "+-----------+--------------------+--------------------+\n",
            "|       Make|               Model|Fuel_ConsumptionCity|\n",
            "+-----------+--------------------+--------------------+\n",
            "|  CHEVROLET|EXPRESS 3500 PASS...|                30.6|\n",
            "|        GMC|SAVANA 3500 PASSE...|                30.6|\n",
            "|        GMC|SAVANA 2500 PASSE...|                30.3|\n",
            "|  CHEVROLET|EXPRESS 2500 PASS...|                30.3|\n",
            "|  CHEVROLET|EXPRESS 3500 PASS...|                30.2|\n",
            "|        GMC|SAVANA 3500 PASSE...|                30.2|\n",
            "|  CHEVROLET|EXPRESS 2500 PASS...|                30.0|\n",
            "|        GMC|SAVANA 2500 PASSE...|                30.0|\n",
            "|    BUGATTI|              Chiron|                26.8|\n",
            "|    BUGATTI|              CHIRON|                26.8|\n",
            "|       FORD|      E350 WAGON FFV|                26.7|\n",
            "|LAMBORGHINI|  Aventador Roadster|                26.6|\n",
            "|LAMBORGHINI|     Aventador Coupe|                26.3|\n",
            "|LAMBORGHINI|     Aventador Coupe|                26.2|\n",
            "|   CADILLAC|    ESCALADE ESV AWD|                25.7|\n",
            "|        GMC| YUKON DENALI XL AWD|                25.7|\n",
            "|       FORD|      E150 WAGON FFV|                25.5|\n",
            "|  CHEVROLET|EXPRESS 1500 PASS...|                25.3|\n",
            "|  CHEVROLET|EXPRESS 1500 CARG...|                25.3|\n",
            "|        GMC|SAVANA 1500 CARGO...|                25.3|\n",
            "+-----------+--------------------+--------------------+\n",
            "only showing top 20 rows\n",
            "\n"
          ]
        }
      ]
    },
    {
      "cell_type": "code",
      "source": [
        "Co2_fuel.show()"
      ],
      "metadata": {
        "colab": {
          "base_uri": "https://localhost:8080/"
        },
        "id": "LJjPGQry99cA",
        "outputId": "84c0bde1-70a5-4f9b-9f75-3919132f78af"
      },
      "execution_count": null,
      "outputs": [
        {
          "output_type": "stream",
          "name": "stdout",
          "text": [
            "+---+------------+------------+-------------+-----------+---------+------------+-------------+-------+---------+--------------------+-------------------+--------------------+------------------------+\n",
            "| ID|        Make|       Model|Vehicle_Class|Engine_Size|Cylinders|Transmission|CO2_Emissions|Fuel_ID|Fuel_Type|Fuel_ConsumptionCity|Fuel_ConsumptionHwy|Fuel_ConsumptionComb|Fuel_ConsumptionComb_mpg|\n",
            "+---+------------+------------+-------------+-----------+---------+------------+-------------+-------+---------+--------------------+-------------------+--------------------+------------------------+\n",
            "|  1|       ACURA|         ILX|      COMPACT|        2.0|        4|         AS5|          196|      1|        Z|                 9.9|                6.7|                 8.5|                      33|\n",
            "|  2|       ACURA|         ILX|      COMPACT|        2.4|        4|          M6|          221|      2|        Z|                11.2|                7.7|                 9.6|                      29|\n",
            "|  3|       ACURA|  ILX HYBRID|      COMPACT|        1.5|        4|         AV7|          136|      3|        Z|                 6.0|                5.8|                 5.9|                      48|\n",
            "|  4|       ACURA|     MDX 4WD|  SUV - SMALL|        3.5|        6|         AS6|          255|      4|        Z|                12.7|                9.1|                11.1|                      25|\n",
            "|  5|       ACURA|     RDX AWD|  SUV - SMALL|        3.5|        6|         AS6|          244|      5|        Z|                12.1|                8.7|                10.6|                      27|\n",
            "|  6|       ACURA|         RLX|     MID-SIZE|        3.5|        6|         AS6|          230|      6|        Z|                11.9|                7.7|                10.0|                      28|\n",
            "|  7|       ACURA|          TL|     MID-SIZE|        3.5|        6|         AS6|          232|      7|        Z|                11.8|                8.1|                10.1|                      28|\n",
            "|  8|       ACURA|      TL AWD|     MID-SIZE|        3.7|        6|         AS6|          255|      8|        Z|                12.8|                9.0|                11.1|                      25|\n",
            "|  9|       ACURA|      TL AWD|     MID-SIZE|        3.7|        6|          M6|          267|      9|        Z|                13.4|                9.5|                11.6|                      24|\n",
            "| 10|       ACURA|         TSX|      COMPACT|        2.4|        4|         AS5|          212|     10|        Z|                10.6|                7.5|                 9.2|                      31|\n",
            "| 11|       ACURA|         TSX|      COMPACT|        2.4|        4|          M6|          225|     11|        Z|                11.2|                8.1|                 9.8|                      29|\n",
            "| 12|       ACURA|         TSX|      COMPACT|        3.5|        6|         AS5|          239|     12|        Z|                12.1|                8.3|                10.4|                      27|\n",
            "| 13|  ALFA ROMEO|          4C|   TWO-SEATER|        1.8|        4|         AM6|          193|     13|        Z|                 9.7|                6.9|                 8.4|                      34|\n",
            "| 14|ASTON MARTIN|         DB9|  MINICOMPACT|        5.9|       12|          A6|          359|     14|        Z|                18.0|               12.6|                15.6|                      18|\n",
            "| 15|ASTON MARTIN|      RAPIDE|   SUBCOMPACT|        5.9|       12|          A6|          359|     15|        Z|                18.0|               12.6|                15.6|                      18|\n",
            "| 16|ASTON MARTIN|  V8 VANTAGE|   TWO-SEATER|        4.7|        8|         AM7|          338|     16|        Z|                17.4|               11.3|                14.7|                      19|\n",
            "| 17|ASTON MARTIN|  V8 VANTAGE|   TWO-SEATER|        4.7|        8|          M6|          354|     17|        Z|                18.1|               12.2|                15.4|                      18|\n",
            "| 18|ASTON MARTIN|V8 VANTAGE S|   TWO-SEATER|        4.7|        8|         AM7|          338|     18|        Z|                17.4|               11.3|                14.7|                      19|\n",
            "| 19|ASTON MARTIN|V8 VANTAGE S|   TWO-SEATER|        4.7|        8|          M6|          354|     19|        Z|                18.1|               12.2|                15.4|                      18|\n",
            "| 20|ASTON MARTIN|    VANQUISH|  MINICOMPACT|        5.9|       12|          A6|          359|     20|        Z|                18.0|               12.6|                15.6|                      18|\n",
            "+---+------------+------------+-------------+-----------+---------+------------+-------------+-------+---------+--------------------+-------------------+--------------------+------------------------+\n",
            "only showing top 20 rows\n",
            "\n"
          ]
        }
      ]
    },
    {
      "cell_type": "markdown",
      "source": [
        "#10.List 3D Drill Down with sum of Fuel Consumption of vehicle Combination of city and highway(L/100km)"
      ],
      "metadata": {
        "id": "k-gvFi9j97WF"
      }
    },
    {
      "cell_type": "code",
      "source": [
        "spark.sql(\"Select Make,Model,Vehicle_Class,round(sum(Fuel_ConsumptionComb),5) as fuel_sum from Co2_fuel group by Make,Model,Vehicle_Class with rollup order by fuel_sum desc\").show()"
      ],
      "metadata": {
        "colab": {
          "base_uri": "https://localhost:8080/"
        },
        "id": "xzQT0gPBZzSs",
        "outputId": "1ba001aa-18d3-4613-a991-f72e5a2c19b8"
      },
      "execution_count": null,
      "outputs": [
        {
          "output_type": "stream",
          "name": "stdout",
          "text": [
            "+-------------+-----+-------------+--------+\n",
            "|         Make|Model|Vehicle_Class|fuel_sum|\n",
            "+-------------+-----+-------------+--------+\n",
            "|         null| null|         null| 81050.9|\n",
            "|         FORD| null|         null|  7537.6|\n",
            "|    CHEVROLET| null|         null|  7040.7|\n",
            "|          BMW| null|         null|  5725.5|\n",
            "|MERCEDES-BENZ| null|         null|  4993.3|\n",
            "|          GMC| null|         null|  4577.5|\n",
            "|      PORSCHE| null|         null|  4176.1|\n",
            "|       TOYOTA| null|         null|  3181.4|\n",
            "|        DODGE| null|         null|  3077.5|\n",
            "|         AUDI| null|         null|  3060.6|\n",
            "|         JEEP| null|         null|  2736.2|\n",
            "|       NISSAN| null|         null|  2627.2|\n",
            "|          KIA| null|         null|  2116.5|\n",
            "|      HYUNDAI| null|         null|  1874.7|\n",
            "|       JAGUAR| null|         null|  1864.2|\n",
            "|        LEXUS| null|         null|  1844.0|\n",
            "|     CADILLAC| null|         null|  1815.9|\n",
            "|   VOLKSWAGEN| null|         null|  1750.2|\n",
            "|        HONDA| null|         null|  1748.2|\n",
            "|         MINI| null|         null|  1724.0|\n",
            "+-------------+-----+-------------+--------+\n",
            "only showing top 20 rows\n",
            "\n"
          ]
        }
      ]
    }
  ]
}